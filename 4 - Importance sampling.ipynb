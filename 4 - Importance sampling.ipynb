{
 "cells": [
  {
   "cell_type": "markdown",
   "id": "9fd5f806-3cca-4445-9b23-6db326921edd",
   "metadata": {},
   "source": [
    "# Importance sampling"
   ]
  },
  {
   "cell_type": "markdown",
   "id": "cd9b413a-ff22-4075-8cc9-b7c5c5a2cb52",
   "metadata": {},
   "source": [
    "Importance sampling is a way of evaluating expectation values w.r.t. a distribution. Unlike sampling methods like rejection sampling, it produces weighted samples rather than samples of equal weight."
   ]
  },
  {
   "cell_type": "markdown",
   "id": "ff56672f-2eb6-4483-b435-15c495d82c8d",
   "metadata": {},
   "source": [
    "Assume that we are interested in evaluating the expectation value of a function $A(X)$ of a random variable $X$ w.r.t. a distribution $f(x)$. Further, assume that we only know the distribution up to a constant factor, i.e., $f'(x)=C f(x)$.\n",
    "\n",
    "The expectation value of $A(X)$ w.r.t. $f(x)$ is\n",
    "\n",
    "$\\mathbb{E}_f[A(X)] = \\int A(x) f(x) dx = \\frac{1}{C}\\int A(x) f'(x) dx$\n",
    "\n",
    "Suppose we have a distribution $g(x)$ that we can sample easily. Then, the expectation value can be written as\n",
    "\n",
    "$\\mathbb{E}_{f}[A(X)]=\\frac{1}{C}\\int A(x)\\frac{f'(x)}{g(x)}g(x)dx=\\frac{1}{C}\\mathbb{E}_{g}\\left[A(x)\\frac{f'(x)}{g(x)}\\right]$"
   ]
  },
  {
   "cell_type": "markdown",
   "id": "5c1e43bd-fc36-4011-89c4-226253d3f980",
   "metadata": {},
   "source": [
    "If we replace $A(X)=1$, we will have\n",
    "\n",
    "$\\mathbb{E}_{f}[1]=\\frac{1}{C}\\mathbb{E}_{g}\\left[\\frac{f'(x)}{g(x)}\\right]$\n",
    "\n",
    "i.e., $C=\\mathbb{E}_{g}\\left[\\frac{f'(x)}{g(x)}\\right]$.\n",
    "\n",
    "Therefore,\n",
    "\n",
    "$\\mathbb{E}_{f}[A(X)]=\\frac{\\mathbb{E}_{g}\\left[A(x)\\frac{f'(x)}{g(x)}\\right]}{\\mathbb{E}_{g}\\left[\\frac{f'(x)}{g(x)}\\right]}$"
   ]
  },
  {
   "cell_type": "markdown",
   "id": "56290933-465d-46ed-9699-d017b30f5634",
   "metadata": {},
   "source": [
    "If we draw samples $x_i$ from $g(x)$ and define the weights $w_i = f'(x_i)/g(x_i)$, we can approximate this as\n",
    "\n",
    "$\\mathbb{E}_{f}[A(X)]=\\frac{\\frac{1}{N}\\sum_{i=1}^{N}A(x_{i})w_{i}}{\\frac{1}{N}\\sum_{i=1}^{N}w_{i}}=\\left(\\sum_{j=1}^{N}w_{j}\\right)^{-1}\\sum_{i=1}^{N}A(x_{i})w_{i}$\n",
    "\n",
    "This assumes that $g(x)$ is non-zero everywhere in the support of $f(x)$."
   ]
  },
  {
   "cell_type": "markdown",
   "id": "ad2552ce-0c19-43ac-b5d5-bbc2b94f85c5",
   "metadata": {},
   "source": [
    "Since most of what we do with samples is to compute expectation values, we can use the sample-weight pairs $(x_i,w_i)$ in pretty much the same way."
   ]
  },
  {
   "cell_type": "markdown",
   "id": "a4013ee9-3a9d-4b09-905e-47a0a431b3d9",
   "metadata": {},
   "source": [
    "Now, an implementation."
   ]
  },
  {
   "cell_type": "code",
   "execution_count": 2,
   "id": "e7692d11-4f7f-4e7a-88c3-3fbc9c2808e6",
   "metadata": {},
   "outputs": [],
   "source": [
    "import jax.numpy as np\n",
    "import matplotlib.pyplot as plt\n",
    "import jax\n",
    "\n",
    "@jax.jit\n",
    "def fprime(x):\n",
    "    return (1-np.abs(x)) * np.heaviside(1-np.abs(x), 0)\n",
    "\n",
    "C = 1.0\n",
    "\n",
    "@jax.jit\n",
    "def g(x):\n",
    "    # Normal distribution with sigma=1/2\n",
    "    return np.exp(-x**2/2*4) / np.sqrt(2*np.pi/4)"
   ]
  },
  {
   "cell_type": "code",
   "execution_count": 3,
   "id": "ceb91688-1fc5-416b-8664-31fb6acce1cc",
   "metadata": {},
   "outputs": [],
   "source": [
    "import numpy.random as random\n",
    "\n",
    "def sample(N):\n",
    "    samples = []\n",
    "    weights = []\n",
    "    for i in range(N):\n",
    "        x = random.randn() / 2 # Draw from g(x)\n",
    "        w = fprime(x) / g(x)\n",
    "        samples.append(x)\n",
    "        weights.append(w)\n",
    "    return samples, weights"
   ]
  },
  {
   "cell_type": "code",
   "execution_count": 5,
   "id": "b69fa563-1a9d-4d86-9269-c2c569bcb95b",
   "metadata": {},
   "outputs": [],
   "source": [
    "xs, ws = sample(10000)"
   ]
  },
  {
   "cell_type": "code",
   "execution_count": 6,
   "id": "1aa58c5f-cb6d-4349-ac44-dcfa105d4d01",
   "metadata": {},
   "outputs": [
    {
     "data": {
      "text/plain": [
       "[<matplotlib.lines.Line2D at 0x76eabfb33e30>]"
      ]
     },
     "execution_count": 6,
     "metadata": {},
     "output_type": "execute_result"
    },
    {
     "data": {
      "image/png": "[encoded data removed]",
      "text/plain": [
       "<Figure size 640x480 with 1 Axes>"
      ]
     },
     "metadata": {},
     "output_type": "display_data"
    }
   ],
   "source": [
    "plt.hist(xs, weights=ws, density=True, bins=32)\n",
    "x = np.linspace(-2, 2, 500)\n",
    "plt.plot(x, fprime(x), label=\"target\")"
   ]
  },
  {
   "cell_type": "markdown",
   "id": "f48a86d5-a328-474b-8f46-cfbd12d263f7",
   "metadata": {},
   "source": [
    "The advantage of importance sampling over rejection sampling is that it does not throw away any data. Further, it is more efficient at exploring the low-probability regions of the parameter space. OTOH, it is not easy to find an appropriate $g(x)$ for most real world applications. "
   ]
  },
  {
   "cell_type": "code",
   "execution_count": null,
   "id": "3879a70b-4745-4864-8c36-c7a82081a7c2",
   "metadata": {},
   "outputs": [],
   "source": []
  }
 ],
 "metadata": {
  "kernelspec": {
   "display_name": "Python 3 (ipykernel)",
   "language": "python",
   "name": "python3"
  },
  "language_info": {
   "codemirror_mode": {
    "name": "ipython",
    "version": 3
   },
   "file_extension": ".py",
   "mimetype": "text/x-python",
   "name": "python",
   "nbconvert_exporter": "python",
   "pygments_lexer": "ipython3",
   "version": "3.12.2"
  }
 },
 "nbformat": 4,
 "nbformat_minor": 5
}
