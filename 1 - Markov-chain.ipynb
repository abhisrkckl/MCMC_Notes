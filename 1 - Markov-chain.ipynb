{
 "cells": [
  {
   "cell_type": "markdown",
   "id": "893fc306-d987-4477-8159-c1722531114f",
   "metadata": {},
   "source": [
    "# Markov chains\n",
    "\n",
    "A Markov chain is a stochastic process $a_1$, $a_2$, ..., $a_n$, ... where the probability distribution of having a state $a_{n+1}$ at the $(n+1)$th step only depends on the $n$th state $a_n$. i.e, a Markov process is fully defined by the probabilities $p(a_{n+1} | a_n)$."
   ]
  },
  {
   "cell_type": "markdown",
   "id": "48701156-b6d9-434f-a09d-3d9bf0eb16af",
   "metadata": {},
   "source": [
    "For example, let us consider two coins: one weighted and one fair. The weighted coin has a 0.6 probability of getting heads. If we get heads on the $n$th coin toss, we use the fair coin in the next round but use the weighted coin otherwise. The probabilities can be summarized as follows:\n",
    "\n",
    "| Transition | Probability|\n",
    "|------------|------------|\n",
    "| H -> H     | 0.5       |\n",
    "| H -> T     | 0.5       |\n",
    "| T -> H     | 0.6       |\n",
    "| T -> T     | 0.4       |\n",
    "\n",
    "We can simulate this as follows:"
   ]
  },
  {
   "cell_type": "code",
   "execution_count": 16,
   "id": "82666dd2-2a31-4bc0-a02a-0588c0c49a71",
   "metadata": {},
   "outputs": [
    {
     "name": "stdout",
     "output_type": "stream",
     "text": [
      "['T', 'T', 'H', 'T', 'T', 'T', 'H', 'H', 'H', 'H', 'H', 'T', 'T', 'T', 'H', 'T', 'T', 'H', 'H', 'T', 'T', 'T', 'H', 'H', 'H', 'T', 'H', 'T', 'T', 'H', 'H', 'T', 'T', 'T', 'T', 'T', 'H', 'T', 'T', 'T', 'H', 'T', 'H', 'T', 'T', 'H', 'H', 'T', 'H', 'T', 'H', 'T', 'T', 'H', 'T', 'T', 'H', 'T', 'T', 'H', 'H', 'H', 'H', 'T', 'T', 'H', 'H', 'H', 'H', 'H', 'H', 'T', 'T', 'T', 'H', 'T', 'T', 'H', 'T', 'T', 'T', 'T', 'H', 'T', 'H', 'H', 'T', 'H', 'T', 'T', 'H', 'T', 'T', 'H', 'H', 'H', 'H', 'H', 'T', 'H']\n",
      "% heads = 0.53\n"
     ]
    }
   ],
   "source": [
    "import numpy as np\n",
    "\n",
    "def simulate_coin_toss_game(start_heads, nsteps):\n",
    "    result = []\n",
    "    heads = start_heads\n",
    "    for i in range(nsteps):\n",
    "        if heads:\n",
    "            # fair coin toss\n",
    "            heads = np.random.choice([True, False])\n",
    "        else:\n",
    "            # weighted coin with 60% heads\n",
    "            heads = np.random.choice([True, False], p=[0.6, 0.4])\n",
    "        result.append(heads)\n",
    "\n",
    "    return result\n",
    "\n",
    "result = simulate_coin_toss_game(False, 100)\n",
    "print([[\"H\", \"T\"][int(r)] for r in result])\n",
    "print(f\"% heads = {sum(result) / len(result)}\")"
   ]
  },
  {
   "cell_type": "markdown",
   "id": "58f5dc33-92f3-490f-96b6-72bc1a609136",
   "metadata": {},
   "source": [
    "Repeating this game, we see that the percentage of heads is on average slightly over 50% most of the time. \n",
    "\n",
    "So how does the probability of heads change after each step? Does it converge to anything? The following code computes the probability of heads at each step."
   ]
  },
  {
   "cell_type": "code",
   "execution_count": 17,
   "id": "35a52aeb-9e0e-4d9e-af19-11e6c6eda1c9",
   "metadata": {},
   "outputs": [
    {
     "name": "stdout",
     "output_type": "stream",
     "text": [
      "[0.5, 0.55, 0.5449999999999999, 0.5455, 0.54545, 0.545455, 0.5454545, 0.54545455, 0.545454545, 0.5454545454999999, 0.5454545454499999, 0.5454545454549999, 0.5454545454545, 0.54545454545455, 0.545454545454545, 0.5454545454545454]\n",
      "[0.6, 0.54, 0.546, 0.5454, 0.5454600000000001, 0.545454, 0.5454546, 0.5454545399999999, 0.545454546, 0.5454545453999999, 0.5454545454599999, 0.5454545454540001, 0.5454545454546, 0.54545454545454, 0.545454545454546, 0.5454545454545454]\n"
     ]
    }
   ],
   "source": [
    "def simulate_coin_toss_game_probability(start_heads, nsteps):\n",
    "    heads_prob = 0.5 if start_heads else 0.6\n",
    "    result = [heads_prob]\n",
    "    for i in range(nsteps):\n",
    "        # fair coin if H, weighted coin if T\n",
    "        heads_prob = 0.5 * heads_prob + 0.6 * (1 - heads_prob)\n",
    "        result.append(heads_prob)\n",
    "\n",
    "    return result\n",
    "\n",
    "result = simulate_coin_toss_game_probability(True, 15)\n",
    "print(result)\n",
    "\n",
    "result = simulate_coin_toss_game_probability(False, 15)\n",
    "print(result)"
   ]
  },
  {
   "cell_type": "markdown",
   "id": "7b863bc3-864f-4015-881f-33f468c484b5",
   "metadata": {},
   "source": [
    "Regardless of whether we start the game with an H or not, we see that the probability of H converges to the same number after several steps. This is called the steady state probability. The steady state probability can be calculated from the transition probabilities using the property that the probabilities in the $(n+1)$th step are the same as the $n$th step once the steady state is reached. i.e., in this case,\n",
    "\n",
    "$p_{n+1}[H] = p_{n}[H] = 0.5 p_n[H] + 0.6 p_n[T] = 0.5 p_n[H] + 0.6 (1-p_n[H])$\n",
    "\n",
    "This has the solution $p_n[H] = 6/11 = 0.54...$, which is the same number we got from the simulation."
   ]
  },
  {
   "cell_type": "code",
   "execution_count": null,
   "id": "19f58db8-345f-4457-a1c7-96fe206f4e27",
   "metadata": {},
   "outputs": [],
   "source": []
  }
 ],
 "metadata": {
  "kernelspec": {
   "display_name": "Python 3 (ipykernel)",
   "language": "python",
   "name": "python3"
  },
  "language_info": {
   "codemirror_mode": {
    "name": "ipython",
    "version": 3
   },
   "file_extension": ".py",
   "mimetype": "text/x-python",
   "name": "python",
   "nbconvert_exporter": "python",
   "pygments_lexer": "ipython3",
   "version": "3.12.2"
  }
 },
 "nbformat": 4,
 "nbformat_minor": 5
}
