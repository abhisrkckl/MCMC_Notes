{
 "cells": [
  {
   "cell_type": "markdown",
   "id": "893fc306-d987-4477-8159-c1722531114f",
   "metadata": {},
   "source": [
    "# Markov chains\n",
    "\n",
    "A Markov chain is a stochastic process $a_1$, $a_2$, ..., $a_n$, ... where the probability distribution of having a state $a_{n+1}$ at the $(n+1)$th step only depends on the $n$th state $a_n$. i.e, a Markov process is fully defined by the probabilities $p(a_{n+1} | a_n)$."
   ]
  },
  {
   "cell_type": "markdown",
   "id": "48701156-b6d9-434f-a09d-3d9bf0eb16af",
   "metadata": {},
   "source": [
    "For example, let us consider two coins: one weighted and one fair. The weighted coin has a 0.6 probability of getting heads. If we get heads on the $n$th coin toss, we use the fair coin in the next round but use the weighted coin otherwise. The probabilities can be summarized as follows:\n",
    "\n",
    "| Transition | Probability|\n",
    "|------------|------------|\n",
    "| H -> H     | 0.5       |\n",
    "| H -> T     | 0.5       |\n",
    "| T -> H     | 0.6       |\n",
    "| T -> T     | 0.4       |\n",
    "\n",
    "We can simulate this as follows:"
   ]
  },
  {
   "cell_type": "code",
   "execution_count": 16,
   "id": "82666dd2-2a31-4bc0-a02a-0588c0c49a71",
   "metadata": {},
   "outputs": [
    {
     "name": "stdout",
     "output_type": "stream",
     "text": [
      "['T', 'T', 'H', 'T', 'T', 'T', 'H', 'H', 'H', 'H', 'H', 'T', 'T', 'T', 'H', 'T', 'T', 'H', 'H', 'T', 'T', 'T', 'H', 'H', 'H', 'T', 'H', 'T', 'T', 'H', 'H', 'T', 'T', 'T', 'T', 'T', 'H', 'T', 'T', 'T', 'H', 'T', 'H', 'T', 'T', 'H', 'H', 'T', 'H', 'T', 'H', 'T', 'T', 'H', 'T', 'T', 'H', 'T', 'T', 'H', 'H', 'H', 'H', 'T', 'T', 'H', 'H', 'H', 'H', 'H', 'H', 'T', 'T', 'T', 'H', 'T', 'T', 'H', 'T', 'T', 'T', 'T', 'H', 'T', 'H', 'H', 'T', 'H', 'T', 'T', 'H', 'T', 'T', 'H', 'H', 'H', 'H', 'H', 'T', 'H']\n",
      "% heads = 0.53\n"
     ]
    }
   ],
   "source": [
    "import numpy as np\n",
    "\n",
    "def simulate_coin_toss_game(start_heads, nsteps):\n",
    "    result = []\n",
    "    heads = start_heads\n",
    "    for i in range(nsteps):\n",
    "        if heads:\n",
    "            # fair coin toss\n",
    "            heads = np.random.choice([True, False])\n",
    "        else:\n",
    "            # weighted coin with 60% heads\n",
    "            heads = np.random.choice([True, False], p=[0.6, 0.4])\n",
    "        result.append(heads)\n",
    "\n",
    "    return result\n",
    "\n",
    "result = simulate_coin_toss_game(False, 100)\n",
    "print([[\"H\", \"T\"][int(r)] for r in result])\n",
    "print(f\"% heads = {sum(result) / len(result)}\")"
   ]
  },
  {
   "cell_type": "markdown",
   "id": "58f5dc33-92f3-490f-96b6-72bc1a609136",
   "metadata": {},
   "source": [
    "Repeating this game, we see that the percentage of heads is on average slightly over 50% most of the time. \n",
    "\n",
    "So how does the probability of heads change after each step? Does it converge to anything? The following code computes the probability of heads at each step."
   ]
  },
  {
   "cell_type": "markdown",
   "id": "aeb0404c-6237-4fec-b67c-3f175ff94c14",
   "metadata": {},
   "source": [
    "def simulate_coin_toss_game_probability(start_heads, nsteps):\n",
    "    heads_prob = 0.5 if start_heads else 0.6\n",
    "    result = [heads_prob]\n",
    "    for i in range(nsteps):\n",
    "        # fair coin if H, weighted coin if T\n",
    "        heads_prob = 0.5 * heads_prob + 0.6 * (1 - heads_prob)\n",
    "        result.append(heads_prob)\n",
    "\n",
    "    return result\n",
    "\n",
    "result = simulate_coin_toss_game_probability(True, 15)\n",
    "print(result)\n",
    "\n",
    "result = simulate_coin_toss_game_probability(False, 15)\n",
    "print(result)"
   ]
  },
  {
   "cell_type": "markdown",
   "id": "7b863bc3-864f-4015-881f-33f468c484b5",
   "metadata": {},
   "source": [
    "Regardless of whether we start the game with an H or not, we see that the probability of H converges to the same number after several steps. This is called the steady state probability. The steady state probability can be calculated from the transition probabilities using the property that the probabilities in the $(n+1)$th step are the same as the $n$th step once the steady state is reached. i.e., in this case,\n",
    "\n",
    "$p_{n+1}[H] = p_{n}[H] = 0.5 p_n[H] + 0.6 p_n[T] = 0.5 p_n[H] + 0.6 (1-p_n[H])$\n",
    "\n",
    "This has the solution $p_n[H] = 6/11 = 0.54...$, which is the same number we got from the simulation."
   ]
  },
  {
   "cell_type": "markdown",
   "id": "16165924-43fe-4316-8e80-6dfc07dbb9bb",
   "metadata": {},
   "source": [
    "More generally, let $T_{ab} = T[a|b]$ be the transition probability of going to state $b$ given state $a$. Then, the steady-state probabilities $p_a=p[a]$ of the states are related to the transition probabilities via the relation\n",
    "\n",
    "$\\sum_b T[a|b] p[b] = p[a]$"
   ]
  },
  {
   "cell_type": "markdown",
   "id": "76e310b5-3174-4387-876e-46cfed0b5d3c",
   "metadata": {},
   "source": [
    "The detailed balance is a stricter condition that implies the above, but not vice versa.\n",
    "\n",
    "$T[a|b] \\, p[b] = T[b|a] \\, p[a]$\n",
    "\n",
    "$\\sum_b T[a|b] p[b] = p[a] \\sum_b T[b|a] = p[a]$"
   ]
  },
  {
   "cell_type": "markdown",
   "id": "d5f3aaf1-8836-4131-adcd-671b7536c252",
   "metadata": {},
   "source": [
    "In the case of continuous variables, this becomes \n",
    "\n",
    "$\\int T[x|x'] f(x') dx' = f(x)$\n",
    "\n",
    "where $x'$ is the current state and $x$ is the next state. The detailed balance condition becomes\n",
    "\n",
    "$T[x|x'] \\, f(x') = T[x'|x] \\, f(x)$"
   ]
  },
  {
   "cell_type": "markdown",
   "id": "700b36c3-b18f-4064-8fbe-494689f4fa16",
   "metadata": {},
   "source": [
    "Designing a Markov chain that converges to a certain steady state probability $p[a]$ involves finding a $T[a|b]$ that satisfies the detailed balance condition along with the condition $\\sum_b T[b|a] = 1$ which is simply a property of conditional probabilities. The choice of $T[a|b]$ given a $p[a]$ is not unique."
   ]
  },
  {
   "cell_type": "code",
   "execution_count": null,
   "id": "5add3bc9-775b-497f-ab90-68e26460a340",
   "metadata": {},
   "outputs": [],
   "source": []
  }
 ],
 "metadata": {
  "kernelspec": {
   "display_name": "Python 3 (ipykernel)",
   "language": "python",
   "name": "python3"
  },
  "language_info": {
   "codemirror_mode": {
    "name": "ipython",
    "version": 3
   },
   "file_extension": ".py",
   "mimetype": "text/x-python",
   "name": "python",
   "nbconvert_exporter": "python",
   "pygments_lexer": "ipython3",
   "version": "3.12.2"
  }
 },
 "nbformat": 4,
 "nbformat_minor": 5
}
